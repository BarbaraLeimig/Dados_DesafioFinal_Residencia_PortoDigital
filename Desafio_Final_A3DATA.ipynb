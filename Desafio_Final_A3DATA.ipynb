{
  "nbformat": 4,
  "nbformat_minor": 0,
  "metadata": {
    "colab": {
      "provenance": []
    },
    "kernelspec": {
      "name": "python3",
      "display_name": "Python 3"
    },
    "language_info": {
      "name": "python"
    }
  },
  "cells": [
    {
      "cell_type": "markdown",
      "source": [
        "# Criação do Dataframe"
      ],
      "metadata": {
        "id": "GElz_khZE0L7"
      }
    },
    {
      "cell_type": "code",
      "source": [
        "#pip install pandas\n",
        "##pip install duckdb"
      ],
      "metadata": {
        "id": "tY9-S9DuAMiH"
      },
      "execution_count": null,
      "outputs": []
    },
    {
      "cell_type": "code",
      "source": [
        "import pandas as pd\n",
        "\n",
        "class DataframeCreator:\n",
        "  def __init__(self, csv_path):\n",
        "    self.csv_path = csv_path\n",
        "\n",
        "  def create_dataframe(self):\n",
        "    #Lendo um arquivo csv com pandas\n",
        "    try:\n",
        "      dataframe = pd.read_csv(self.csv_path, encoding='latin-1', sep=',')\n",
        "      return dataframe\n",
        "\n",
        "    except FileNotFoundError:\n",
        "      print(f\"O arquivo não foi encontrado: {self.csv_path}\")\n",
        "      return None\n",
        "\n",
        "    except pd.errors.EmptyDataError:\n",
        "      print(f\"O arquico está vazio: {self.csv_path}\")\n",
        "      return None\n",
        "\n",
        "    except pd.errors.ParserError as e:\n",
        "      print(f\"Erro ao analisar o arquivo: {e}\")\n",
        "      return None"
      ],
      "metadata": {
        "id": "dzh2XFjgE3hh"
      },
      "execution_count": 4,
      "outputs": []
    },
    {
      "cell_type": "code",
      "source": [
        "\n",
        "#Criar dataframe\n",
        "\n",
        "csv_path = f'https://drive.google.com/uc?export=download&id=1p34yZ2KdgClf70KhopAxE5mA-7pArvFb'\n",
        "\n",
        "dataframe_creator = DataframeCreator(csv_path)\n",
        "df = dataframe_creator.create_dataframe()\n",
        "\n",
        "if df is not None:\n",
        "  print(\"Dataframe criado com sucesso\")\n",
        "  print(df.head())\n",
        "  print(df.shape)"
      ],
      "metadata": {
        "id": "zZGFKw6AE5e5",
        "colab": {
          "base_uri": "https://localhost:8080/"
        },
        "outputId": "5af62fb6-7afd-4e41-d94a-0af3a5c3a47d"
      },
      "execution_count": 5,
      "outputs": [
        {
          "output_type": "stream",
          "name": "stdout",
          "text": [
            "Dataframe criado com sucesso\n",
            "  estado   ano CIRCOBITO   DTOBITO    DTNASC       SEXO RACACOR  \\\n",
            "0     AC  2014  Suicídio  02-01-14  02-07-77  Masculino   Preta   \n",
            "1     AC  2014  Suicídio  23-01-14  30-07-66  Masculino  Branca   \n",
            "2     AC  2014  Suicídio  31-01-14  28-07-43  Masculino  Branca   \n",
            "3     AC  2014  Suicídio  05-02-14  04-07-99  Masculino  Branca   \n",
            "4     AC  2014  Suicídio  06-02-14  02-05-72  Masculino  Branca   \n",
            "\n",
            "             ESTCIV         ESC                             OCUP  \\\n",
            "0            Casado  4 a 7 anos   ATLETA PROFISSIONAL DE FUTEBOL   \n",
            "1  União consensual   12 e mais  MEDICO GINECOLOGISTA E OBSTETRA   \n",
            "2               NaN         NaN                                0   \n",
            "3          Solteiro  4 a 7 anos                        ESTUDANTE   \n",
            "4               NaN         NaN                                0   \n",
            "\n",
            "        CODMUNRES    LOCOCOR ASSISTMED CAUSABAS CAUSABAS_O  idade  mes  \n",
            "0      Rio Branco  Domicílio       Não     X700       X700   37.0    1  \n",
            "1      Rio Branco  Domicílio       Não     X800       X800   48.0    1  \n",
            "2      Rio Branco  Domicílio       Não     X700       X700   71.0    1  \n",
            "3  Epitaciolândia     Outros       Não     X700       X700   15.0    2  \n",
            "4      Rio Branco     Outros       Não     X700       X700   42.0    2  \n",
            "(58634, 17)\n"
          ]
        }
      ]
    },
    {
      "cell_type": "markdown",
      "source": [
        "# Query SQL"
      ],
      "metadata": {
        "id": "AwcAdifBE-gr"
      }
    },
    {
      "cell_type": "code",
      "source": [
        "import duckdb\n",
        "\n",
        "class SQLExecutor:\n",
        "    def __init__(self, df):\n",
        "        self.df = df\n",
        "\n",
        "    def execute_sql(self, sql_script):\n",
        "        # Criar uma conexão DuckDB usando o DataFrame\n",
        "        con = duckdb.connect(database=':memory:',read_only=False)\n",
        "\n",
        "        # Registrar o DataFrame como uma tabela DuckDB\n",
        "        con.register('table_dataframe', self.df)\n",
        "\n",
        "        # Executar o script SQL na tabela registrada\n",
        "        result_dataframe = con.execute(sql_script).fetchdf()\n",
        "\n",
        "        return result_dataframe"
      ],
      "metadata": {
        "id": "43pYM95qFyGk"
      },
      "execution_count": 6,
      "outputs": []
    },
    {
      "cell_type": "code",
      "source": [
        "sql_script = \"\"\"\n",
        "SELECT\n",
        "    ano as \"Ano\",\n",
        "    estado as \"Estado\",\n",
        "    sexo as \"Sexo\",\n",
        "    ocup as \"Ocupação\",\n",
        "    assistmed as \"Assistência Médica\",\n",
        "FROM\n",
        "    table_dataframe\n",
        "WHERE\n",
        "    ano like 2018\n",
        "\"\"\"\n",
        "\n",
        "sql_executor = SQLExecutor(df)\n",
        "result_query = sql_executor.execute_sql(sql_script)\n",
        "\n",
        "if result_query is not None:\n",
        "  print(result_query.head())\n",
        "  print(result_query.shape)"
      ],
      "metadata": {
        "id": "vLKAJWoLFDLx",
        "outputId": "8126a3af-21fe-4b5b-e520-202f5660d6a7",
        "colab": {
          "base_uri": "https://localhost:8080/"
        }
      },
      "execution_count": 7,
      "outputs": [
        {
          "output_type": "stream",
          "name": "stdout",
          "text": [
            "    Ano Estado       Sexo                            Ocupação  \\\n",
            "0  2018     AC  Masculino  TRABALHADOR VOLANTE DA AGRICULTURA   \n",
            "1  2018     AC  Masculino               DESEMPREGADO CRONICO    \n",
            "2  2018     AC  Masculino                                   0   \n",
            "3  2018     AC  Masculino  TRABALHADOR VOLANTE DA AGRICULTURA   \n",
            "4  2018     AC   Feminino                                   0   \n",
            "\n",
            "  Assistência Médica  \n",
            "0                Não  \n",
            "1               None  \n",
            "2               None  \n",
            "3               None  \n",
            "4                Não  \n",
            "(12764, 5)\n"
          ]
        }
      ]
    },
    {
      "cell_type": "markdown",
      "source": [
        "# Escrita em Parquet"
      ],
      "metadata": {
        "id": "LmKbzqSBVHHO"
      }
    },
    {
      "cell_type": "code",
      "source": [
        "class ParquetDataProcessor:\n",
        "  def __init__(self, dataframe):\n",
        "    self.dataframe = dataframe\n",
        "\n",
        "  def save_to_parquet(self, output_file_path):\n",
        "    try:\n",
        "      self.dataframe.to_parquet(output_file_path, index=False)\n",
        "      print(f\"O Dataframe foi salvo em parquet: {output_file_path}\")\n",
        "\n",
        "    except Exception as e:\n",
        "      print(f\"Erro ao salvar o Dataframe em parquet: {e}\")"
      ],
      "metadata": {
        "id": "CGqCpSzAVMcn"
      },
      "execution_count": 8,
      "outputs": []
    },
    {
      "cell_type": "code",
      "source": [
        "processor = ParquetDataProcessor(df)\n",
        "\n",
        "processor.save_to_parquet('datasus_suicidio_2014_2018.parquet')"
      ],
      "metadata": {
        "colab": {
          "base_uri": "https://localhost:8080/"
        },
        "id": "addkdgNVVPcm",
        "outputId": "75ba6aef-3534-4251-9e9e-d38dfa55caed"
      },
      "execution_count": 9,
      "outputs": [
        {
          "output_type": "stream",
          "name": "stdout",
          "text": [
            "O Dataframe foi salvo em parquet: datasus_suicidio_2014_2018.parquet\n"
          ]
        }
      ]
    }
  ]
}